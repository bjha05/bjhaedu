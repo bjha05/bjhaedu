{
 "cells": [
  {
   "cell_type": "raw",
   "id": "6279c92f",
   "metadata": {},
   "source": [
    "Q.1. In the below elements which of them are values or an expression? eg:- values can be\n",
    "integer or string and expressions will be mathematical operators.\n",
    "\n",
    "ANS:\n",
    "\n",
    " *( Expression)\n",
    "'hello'(string value)\n",
    "-87.8 (Integer value)\n",
    "- (Expression)\n",
    "/ (Expression)\n",
    "+ (Expression)\n",
    "6 (Integer value)\n",
    "\n",
    "Q.2 What is the difference between string and variable?\n",
    "\n",
    " ANS: Variable is a symbolic name that are used to denote an object.\n",
    "      String is a sequence of characters or words which we stores in a variable as objects.\n",
    "      For example : a = \"jupyter\" here \"a\" is a variable and \"jupyter\" is string.\n",
    "      \n",
    "Q.3 Describe three different data types.\n",
    "\n",
    "Ans: Classification of a data in python is a deta type.\n",
    "    \n",
    "     1) string data type : A data type containing a group of alphabets or words enclosed with single quote, double quote.\n",
    "                           e.g:'notebook' is a string\n",
    "     \n",
    "     2) Number data type: This data type denotes 'numbers'. Numbers can be Integers, floting data type(includes decimal                                   point with real numbers),  complex deta type (consist of one real value and an imaginary value) e.g :                           67 (int), 6.7(floting) , 6+7j (complex).\n",
    "     \n",
    "     3) Boolean data type: It only determine whether the data is true or false.\n",
    "     \n",
    " Q.4 What is an expression made up of? What do all expressions do?    \n",
    " \n",
    " ANS: An expression is made up of operand (a number, aplhabets or values ) and a operator (signs).\n",
    " \n",
    "      Expressions are used to evaluate the values or represent the results.\n",
    "           \n",
    "      \n",
    " Q 5.This assignment statements, like spam = 10. What is the difference between an\n",
    "     expression and a statement?  \n",
    "     \n",
    " Ans: Expression represents something which python evaluates and results in value but in statement python executes it and             results in an action.\n",
    " \n",
    "Q.6 After running the following code, what does the variable bacon contain?"
   ]
  },
  {
   "cell_type": "code",
   "execution_count": 6,
   "id": "9fbe0426",
   "metadata": {},
   "outputs": [],
   "source": [
    "bacon=22"
   ]
  },
  {
   "cell_type": "code",
   "execution_count": 7,
   "id": "ded74c0f",
   "metadata": {},
   "outputs": [
    {
     "data": {
      "text/plain": [
       "23"
      ]
     },
     "execution_count": 7,
     "metadata": {},
     "output_type": "execute_result"
    }
   ],
   "source": [
    "bacon+1"
   ]
  },
  {
   "cell_type": "raw",
   "id": "ccce40e6",
   "metadata": {},
   "source": [
    "7. What should the values of the following two terms be?\n",
    " 'spam' + 'spamspam'\n",
    "  'spam'*3"
   ]
  },
  {
   "cell_type": "code",
   "execution_count": 8,
   "id": "fb1e379a",
   "metadata": {},
   "outputs": [],
   "source": [
    "a= \"spam\"\n",
    "b= \"spamspam\""
   ]
  },
  {
   "cell_type": "code",
   "execution_count": 9,
   "id": "126d7d94",
   "metadata": {},
   "outputs": [
    {
     "data": {
      "text/plain": [
       "'spamspamspam'"
      ]
     },
     "execution_count": 9,
     "metadata": {},
     "output_type": "execute_result"
    }
   ],
   "source": [
    "a+b"
   ]
  },
  {
   "cell_type": "code",
   "execution_count": 10,
   "id": "d197b8b1",
   "metadata": {},
   "outputs": [
    {
     "data": {
      "text/plain": [
       "'spamspamspam'"
      ]
     },
     "execution_count": 10,
     "metadata": {},
     "output_type": "execute_result"
    }
   ],
   "source": [
    "a*3"
   ]
  },
  {
   "cell_type": "raw",
   "id": "8b3066c7",
   "metadata": {},
   "source": [
    "both results are same\n",
    "\n",
    "Q.8 Why is eggs a valid variable name while 100 is invalid?\n",
    "\n",
    " Ans: A variable name cannot starts with a number, it must stars with a alphabet. As 'eggs' starts with alphabet 'e' so it's a       valid variale while '100' starts with a number so it is invalid."
   ]
  },
  {
   "cell_type": "code",
   "execution_count": null,
   "id": "0e433f28",
   "metadata": {
    "collapsed": true
   },
   "outputs": [],
   "source": []
  }
 ],
 "metadata": {
  "kernelspec": {
   "display_name": "Python 3 (ipykernel)",
   "language": "python",
   "name": "python3"
  },
  "language_info": {
   "codemirror_mode": {
    "name": "ipython",
    "version": 3
   },
   "file_extension": ".py",
   "mimetype": "text/x-python",
   "name": "python",
   "nbconvert_exporter": "python",
   "pygments_lexer": "ipython3",
   "version": "3.9.13"
  }
 },
 "nbformat": 4,
 "nbformat_minor": 5
}
